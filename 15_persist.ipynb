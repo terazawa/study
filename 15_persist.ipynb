{
 "cells": [
  {
   "cell_type": "markdown",
   "metadata": {},
   "source": [
    "# persist"
   ]
  },
  {
   "cell_type": "code",
   "execution_count": 2,
   "metadata": {
    "collapsed": true
   },
   "outputs": [],
   "source": [
    "# %load '/home/training/training_materials/devsh/exercises/persist/stubs/persist.pyspark'\n",
    "# stub: query setup\n",
    "accountsDF = spark.read.table(\"accounts\")\n",
    "activeAccountsDF = accountsDF.select(\"acct_num\").where(accountsDF.acct_close_dt.isNotNull())\n",
    "accountDeviceDF = spark.read.option(\"header\",\"true\").option(\"inferSchema\",\"true\").csv(\"/loudacre/accountdevice\")\n",
    "accountsDevsDF =  accountsDF.join(accountDeviceDF,accountDeviceDF.account_id == activeAccountsDF.acct_num)\n"
   ]
  },
  {
   "cell_type": "code",
   "execution_count": 3,
   "metadata": {
    "collapsed": false
   },
   "outputs": [
    {
     "name": "stdout",
     "output_type": "stream",
     "text": [
      "+--------+----------+---------+---------+\n",
      "|acct_num|first_name|last_name|device_id|\n",
      "+--------+----------+---------+---------+\n",
      "|       1|    Donald|   Becton|       29|\n",
      "|       1|    Donald|   Becton|        9|\n",
      "|       2|     Donna|    Jones|        5|\n",
      "|       3|    Dorthy| Chalmers|        5|\n",
      "|       4|     Leila|  Spencer|       38|\n",
      "+--------+----------+---------+---------+\n",
      "only showing top 5 rows\n",
      "\n"
     ]
    }
   ],
   "source": [
    "accountsDevsDF.select(\"acct_num\", \"first_name\", \"last_name\", \"device_id\").show(5)"
   ]
  },
  {
   "cell_type": "code",
   "execution_count": 4,
   "metadata": {
    "collapsed": false
   },
   "outputs": [
    {
     "data": {
      "text/plain": [
       "DataFrame[acct_num: int, acct_create_dt: timestamp, acct_close_dt: timestamp, first_name: string, last_name: string, address: string, city: string, state: string, zipcode: string, phone_number: string, created: timestamp, modified: timestamp, id: int, account_id: int, device_id: int, activation_date: bigint, account_device_id: string]"
      ]
     },
     "execution_count": 4,
     "metadata": {},
     "output_type": "execute_result"
    }
   ],
   "source": [
    "accountsDevsDF.persist()"
   ]
  },
  {
   "cell_type": "code",
   "execution_count": 5,
   "metadata": {
    "collapsed": false
   },
   "outputs": [
    {
     "name": "stdout",
     "output_type": "stream",
     "text": [
      "+--------+----------+---------+---------+\n",
      "|acct_num|first_name|last_name|device_id|\n",
      "+--------+----------+---------+---------+\n",
      "|     148|    Johnny|   Vargas|       38|\n",
      "|     148|    Johnny|   Vargas|       29|\n",
      "|     463|    Robert|   Dailey|        5|\n",
      "|     463|    Robert|   Dailey|        9|\n",
      "|     471|       Kim|  Johnson|        9|\n",
      "+--------+----------+---------+---------+\n",
      "only showing top 5 rows\n",
      "\n"
     ]
    }
   ],
   "source": [
    "accountsDevsDF.select(\"acct_num\", \"first_name\", \"last_name\", \"device_id\").show(5)"
   ]
  },
  {
   "cell_type": "code",
   "execution_count": 6,
   "metadata": {
    "collapsed": true
   },
   "outputs": [],
   "source": [
    "accountsDevsDF.write.mode(\"overwrite\").save(\"/loudacre/accounts_devices\")"
   ]
  },
  {
   "cell_type": "code",
   "execution_count": 7,
   "metadata": {
    "collapsed": false
   },
   "outputs": [
    {
     "data": {
      "text/plain": [
       "DataFrame[acct_num: int, acct_create_dt: timestamp, acct_close_dt: timestamp, first_name: string, last_name: string, address: string, city: string, state: string, zipcode: string, phone_number: string, created: timestamp, modified: timestamp, id: int, account_id: int, device_id: int, activation_date: bigint, account_device_id: string]"
      ]
     },
     "execution_count": 7,
     "metadata": {},
     "output_type": "execute_result"
    }
   ],
   "source": [
    "accountsDevsDF.unpersist()"
   ]
  },
  {
   "cell_type": "code",
   "execution_count": 8,
   "metadata": {
    "collapsed": true
   },
   "outputs": [],
   "source": [
    "from pyspark import StorageLevel"
   ]
  },
  {
   "cell_type": "code",
   "execution_count": 9,
   "metadata": {
    "collapsed": false
   },
   "outputs": [
    {
     "data": {
      "text/plain": [
       "DataFrame[acct_num: int, acct_create_dt: timestamp, acct_close_dt: timestamp, first_name: string, last_name: string, address: string, city: string, state: string, zipcode: string, phone_number: string, created: timestamp, modified: timestamp, id: int, account_id: int, device_id: int, activation_date: bigint, account_device_id: string]"
      ]
     },
     "execution_count": 9,
     "metadata": {},
     "output_type": "execute_result"
    }
   ],
   "source": [
    "accountsDevsDF.persist(StorageLevel.DISK_ONLY_2)"
   ]
  },
  {
   "cell_type": "code",
   "execution_count": 10,
   "metadata": {
    "collapsed": false
   },
   "outputs": [
    {
     "name": "stdout",
     "output_type": "stream",
     "text": [
      "+--------+----------+---------+---------+\n",
      "|acct_num|first_name|last_name|device_id|\n",
      "+--------+----------+---------+---------+\n",
      "|     148|    Johnny|   Vargas|       38|\n",
      "|     148|    Johnny|   Vargas|       29|\n",
      "|     463|    Robert|   Dailey|        5|\n",
      "|     463|    Robert|   Dailey|        9|\n",
      "|     471|       Kim|  Johnson|        9|\n",
      "+--------+----------+---------+---------+\n",
      "only showing top 5 rows\n",
      "\n"
     ]
    }
   ],
   "source": [
    "accountsDevsDF.select(\"acct_num\", \"first_name\", \"last_name\", \"device_id\").show(5)"
   ]
  },
  {
   "cell_type": "code",
   "execution_count": null,
   "metadata": {
    "collapsed": true
   },
   "outputs": [],
   "source": []
  }
 ],
 "metadata": {
  "kernelspec": {
   "display_name": "Python 2",
   "language": "python",
   "name": "python2"
  },
  "language_info": {
   "codemirror_mode": {
    "name": "ipython",
    "version": 2
   },
   "file_extension": ".py",
   "mimetype": "text/x-python",
   "name": "python",
   "nbconvert_exporter": "python",
   "pygments_lexer": "ipython2",
   "version": "2.7.11"
  }
 },
 "nbformat": 4,
 "nbformat_minor": 0
}

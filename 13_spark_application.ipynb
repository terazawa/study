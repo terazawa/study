{
 "cells": [
  {
   "cell_type": "markdown",
   "metadata": {},
   "source": [
    "# Spark Application"
   ]
  },
  {
   "cell_type": "code",
   "execution_count": 2,
   "metadata": {
    "collapsed": true
   },
   "outputs": [],
   "source": [
    "df = spark.read.table(\"accounts\")"
   ]
  },
  {
   "cell_type": "code",
   "execution_count": 3,
   "metadata": {
    "collapsed": false
   },
   "outputs": [
    {
     "name": "stdout",
     "output_type": "stream",
     "text": [
      "root\n",
      " |-- acct_num: integer (nullable = true)\n",
      " |-- acct_create_dt: timestamp (nullable = true)\n",
      " |-- acct_close_dt: timestamp (nullable = true)\n",
      " |-- first_name: string (nullable = true)\n",
      " |-- last_name: string (nullable = true)\n",
      " |-- address: string (nullable = true)\n",
      " |-- city: string (nullable = true)\n",
      " |-- state: string (nullable = true)\n",
      " |-- zipcode: string (nullable = true)\n",
      " |-- phone_number: string (nullable = true)\n",
      " |-- created: timestamp (nullable = true)\n",
      " |-- modified: timestamp (nullable = true)\n",
      "\n"
     ]
    }
   ],
   "source": [
    "df.printSchema()"
   ]
  },
  {
   "cell_type": "code",
   "execution_count": 4,
   "metadata": {
    "collapsed": false
   },
   "outputs": [
    {
     "name": "stdout",
     "output_type": "stream",
     "text": [
      "+--------+--------------------+-------------+----------+---------+--------------------+-------------+-----+-------+------------+--------------------+--------------------+\n",
      "|acct_num|      acct_create_dt|acct_close_dt|first_name|last_name|             address|         city|state|zipcode|phone_number|             created|            modified|\n",
      "+--------+--------------------+-------------+----------+---------+--------------------+-------------+-----+-------+------------+--------------------+--------------------+\n",
      "|       1|2008-10-23 16:05:...|         null|    Donald|   Becton|2275 Washburn Street|      Oakland|   CA|  94660|  5100032418|2014-03-18 13:29:...|2014-03-18 13:29:...|\n",
      "|       2|2008-11-12 03:00:...|         null|     Donna|    Jones| 3885 Elliott Street|San Francisco|   CA|  94171|  4150835799|2014-03-18 13:29:...|2014-03-18 13:29:...|\n",
      "+--------+--------------------+-------------+----------+---------+--------------------+-------------+-----+-------+------------+--------------------+--------------------+\n",
      "only showing top 2 rows\n",
      "\n"
     ]
    }
   ],
   "source": [
    "df.show(2)"
   ]
  },
  {
   "cell_type": "code",
   "execution_count": 9,
   "metadata": {
    "collapsed": false
   },
   "outputs": [
    {
     "name": "stdout",
     "output_type": "stream",
     "text": [
      "+-----+\n",
      "|state|\n",
      "+-----+\n",
      "|   AZ|\n",
      "|   OR|\n",
      "|   NV|\n",
      "|   CA|\n",
      "+-----+\n",
      "\n"
     ]
    }
   ],
   "source": [
    "df.select('state').distinct().show()"
   ]
  },
  {
   "cell_type": "code",
   "execution_count": 11,
   "metadata": {
    "collapsed": false
   },
   "outputs": [
    {
     "name": "stdout",
     "output_type": "stream",
     "text": [
      "+--------+--------------------+-------------+----------+---------+--------------------+-------------+-----+-------+------------+--------------------+--------------------+\n",
      "|acct_num|      acct_create_dt|acct_close_dt|first_name|last_name|             address|         city|state|zipcode|phone_number|             created|            modified|\n",
      "+--------+--------------------+-------------+----------+---------+--------------------+-------------+-----+-------+------------+--------------------+--------------------+\n",
      "|       1|2008-10-23 16:05:...|         null|    Donald|   Becton|2275 Washburn Street|      Oakland|   CA|  94660|  5100032418|2014-03-18 13:29:...|2014-03-18 13:29:...|\n",
      "|       2|2008-11-12 03:00:...|         null|     Donna|    Jones| 3885 Elliott Street|San Francisco|   CA|  94171|  4150835799|2014-03-18 13:29:...|2014-03-18 13:29:...|\n",
      "+--------+--------------------+-------------+----------+---------+--------------------+-------------+-----+-------+------------+--------------------+--------------------+\n",
      "only showing top 2 rows\n",
      "\n"
     ]
    }
   ],
   "source": [
    "df = df.filter(df.state == 'CA')\n",
    "df.show(2)"
   ]
  }
 ],
 "metadata": {
  "kernelspec": {
   "display_name": "Python 2",
   "language": "python",
   "name": "python2"
  },
  "language_info": {
   "codemirror_mode": {
    "name": "ipython",
    "version": 2
   },
   "file_extension": ".py",
   "mimetype": "text/x-python",
   "name": "python",
   "nbconvert_exporter": "python",
   "pygments_lexer": "ipython2",
   "version": "2.7.11"
  }
 },
 "nbformat": 4,
 "nbformat_minor": 0
}

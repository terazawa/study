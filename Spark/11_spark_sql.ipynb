{
 "cells": [
  {
   "cell_type": "markdown",
   "metadata": {},
   "source": [
    "# Spark SQL"
   ]
  },
  {
   "cell_type": "markdown",
   "metadata": {},
   "source": [
    "## Catalog API"
   ]
  },
  {
   "cell_type": "code",
   "execution_count": 1,
   "metadata": {
    "collapsed": false
   },
   "outputs": [
    {
     "name": "stdout",
     "output_type": "stream",
     "text": [
      "Table(name=u'accounts', database=u'default', description=None, tableType=u'EXTERNAL', isTemporary=False)\n",
      "Table(name=u'part_test', database=u'default', description=None, tableType=u'MANAGED', isTemporary=False)\n"
     ]
    }
   ],
   "source": [
    "for table in spark.catalog.listTables(): print(table)"
   ]
  },
  {
   "cell_type": "code",
   "execution_count": 2,
   "metadata": {
    "collapsed": false
   },
   "outputs": [
    {
     "name": "stdout",
     "output_type": "stream",
     "text": [
      "Column(name=u'acct_num', description=None, dataType=u'int', nullable=True, isPartition=False, isBucket=False)\n",
      "Column(name=u'acct_create_dt', description=None, dataType=u'timestamp', nullable=True, isPartition=False, isBucket=False)\n",
      "Column(name=u'acct_close_dt', description=None, dataType=u'timestamp', nullable=True, isPartition=False, isBucket=False)\n",
      "Column(name=u'first_name', description=None, dataType=u'string', nullable=True, isPartition=False, isBucket=False)\n",
      "Column(name=u'last_name', description=None, dataType=u'string', nullable=True, isPartition=False, isBucket=False)\n",
      "Column(name=u'address', description=None, dataType=u'string', nullable=True, isPartition=False, isBucket=False)\n",
      "Column(name=u'city', description=None, dataType=u'string', nullable=True, isPartition=False, isBucket=False)\n",
      "Column(name=u'state', description=None, dataType=u'string', nullable=True, isPartition=False, isBucket=False)\n",
      "Column(name=u'zipcode', description=None, dataType=u'string', nullable=True, isPartition=False, isBucket=False)\n",
      "Column(name=u'phone_number', description=None, dataType=u'string', nullable=True, isPartition=False, isBucket=False)\n",
      "Column(name=u'created', description=None, dataType=u'timestamp', nullable=True, isPartition=False, isBucket=False)\n",
      "Column(name=u'modified', description=None, dataType=u'timestamp', nullable=True, isPartition=False, isBucket=False)\n"
     ]
    }
   ],
   "source": [
    "for column in spark.catalog.listColumns(\"accounts\"): print(column)"
   ]
  },
  {
   "cell_type": "code",
   "execution_count": 3,
   "metadata": {
    "collapsed": false
   },
   "outputs": [
    {
     "name": "stdout",
     "output_type": "stream",
     "text": [
      "root\n",
      " |-- acct_num: integer (nullable = true)\n",
      " |-- acct_create_dt: timestamp (nullable = true)\n",
      " |-- acct_close_dt: timestamp (nullable = true)\n",
      " |-- first_name: string (nullable = true)\n",
      " |-- last_name: string (nullable = true)\n",
      " |-- address: string (nullable = true)\n",
      " |-- city: string (nullable = true)\n",
      " |-- state: string (nullable = true)\n",
      " |-- zipcode: string (nullable = true)\n",
      " |-- phone_number: string (nullable = true)\n",
      " |-- created: timestamp (nullable = true)\n",
      " |-- modified: timestamp (nullable = true)\n",
      "\n"
     ]
    }
   ],
   "source": [
    "df = spark.read.table(\"accounts\")\n",
    "df.printSchema()"
   ]
  },
  {
   "cell_type": "markdown",
   "metadata": {},
   "source": [
    "## table sql query"
   ]
  },
  {
   "cell_type": "code",
   "execution_count": 4,
   "metadata": {
    "collapsed": true
   },
   "outputs": [],
   "source": [
    "fldf = spark.sql(\"SELECT first_name,last_name FROM accounts\")"
   ]
  },
  {
   "cell_type": "code",
   "execution_count": 5,
   "metadata": {
    "collapsed": false
   },
   "outputs": [
    {
     "name": "stdout",
     "output_type": "stream",
     "text": [
      "root\n",
      " |-- first_name: string (nullable = true)\n",
      " |-- last_name: string (nullable = true)\n",
      "\n"
     ]
    }
   ],
   "source": [
    "fldf.printSchema()"
   ]
  },
  {
   "cell_type": "code",
   "execution_count": 6,
   "metadata": {
    "collapsed": false
   },
   "outputs": [
    {
     "name": "stdout",
     "output_type": "stream",
     "text": [
      "+----------+---------+\n",
      "|first_name|last_name|\n",
      "+----------+---------+\n",
      "|    Donald|   Becton|\n",
      "|     Donna|    Jones|\n",
      "|    Dorthy| Chalmers|\n",
      "|     Leila|  Spencer|\n",
      "|     Anita| Laughlin|\n",
      "+----------+---------+\n",
      "only showing top 5 rows\n",
      "\n"
     ]
    }
   ],
   "source": [
    "fldf.show(5)"
   ]
  },
  {
   "cell_type": "code",
   "execution_count": 7,
   "metadata": {
    "collapsed": false
   },
   "outputs": [
    {
     "name": "stdout",
     "output_type": "stream",
     "text": [
      "== Physical Plan ==\n",
      "HiveTableScan [first_name#65, last_name#66], MetastoreRelation default, accounts\n"
     ]
    }
   ],
   "source": [
    "fldf.explain()"
   ]
  },
  {
   "cell_type": "code",
   "execution_count": 8,
   "metadata": {
    "collapsed": true
   },
   "outputs": [],
   "source": [
    "fldf2 = df.select(\"first_name\", \"last_name\")"
   ]
  },
  {
   "cell_type": "code",
   "execution_count": 9,
   "metadata": {
    "collapsed": false
   },
   "outputs": [
    {
     "name": "stdout",
     "output_type": "stream",
     "text": [
      "== Physical Plan ==\n",
      "HiveTableScan [first_name#40, last_name#41], MetastoreRelation default, accounts\n"
     ]
    }
   ],
   "source": [
    "fldf2.explain()"
   ]
  },
  {
   "cell_type": "code",
   "execution_count": 10,
   "metadata": {
    "collapsed": false
   },
   "outputs": [
    {
     "name": "stdout",
     "output_type": "stream",
     "text": [
      "root\n",
      " |-- first_name: string (nullable = true)\n",
      " |-- last_name: string (nullable = true)\n",
      "\n"
     ]
    }
   ],
   "source": [
    "fldf2.printSchema()"
   ]
  },
  {
   "cell_type": "code",
   "execution_count": 11,
   "metadata": {
    "collapsed": false
   },
   "outputs": [
    {
     "name": "stdout",
     "output_type": "stream",
     "text": [
      "+----------+---------+\n",
      "|first_name|last_name|\n",
      "+----------+---------+\n",
      "|    Donald|   Becton|\n",
      "|     Donna|    Jones|\n",
      "|    Dorthy| Chalmers|\n",
      "|     Leila|  Spencer|\n",
      "|     Anita| Laughlin|\n",
      "+----------+---------+\n",
      "only showing top 5 rows\n",
      "\n"
     ]
    }
   ],
   "source": [
    "fldf2.show(5)"
   ]
  },
  {
   "cell_type": "markdown",
   "metadata": {},
   "source": [
    "## view"
   ]
  },
  {
   "cell_type": "code",
   "execution_count": 12,
   "metadata": {
    "collapsed": true
   },
   "outputs": [],
   "source": [
    "adf = spark.read.option(\"header\",\"true\").option(\"inferSchema\",\"true\").csv(\"/loudacre/accountdevice\")"
   ]
  },
  {
   "cell_type": "code",
   "execution_count": 13,
   "metadata": {
    "collapsed": false
   },
   "outputs": [
    {
     "name": "stdout",
     "output_type": "stream",
     "text": [
      "root\n",
      " |-- id: integer (nullable = true)\n",
      " |-- account_id: integer (nullable = true)\n",
      " |-- device_id: integer (nullable = true)\n",
      " |-- activation_date: long (nullable = true)\n",
      " |-- account_device_id: string (nullable = true)\n",
      "\n"
     ]
    }
   ],
   "source": [
    "adf.printSchema()"
   ]
  },
  {
   "cell_type": "code",
   "execution_count": 14,
   "metadata": {
    "collapsed": false
   },
   "outputs": [],
   "source": [
    "adf.createTempView(\"account_dev\")"
   ]
  },
  {
   "cell_type": "code",
   "execution_count": 15,
   "metadata": {
    "collapsed": false
   },
   "outputs": [
    {
     "name": "stdout",
     "output_type": "stream",
     "text": [
      "Table(name=u'accounts', database=u'default', description=None, tableType=u'EXTERNAL', isTemporary=False)\n",
      "Table(name=u'part_test', database=u'default', description=None, tableType=u'MANAGED', isTemporary=False)\n",
      "Table(name=u'account_dev', database=None, description=None, tableType=u'TEMPORARY', isTemporary=True)\n"
     ]
    }
   ],
   "source": [
    "for table in spark.catalog.listTables(): print(table)"
   ]
  },
  {
   "cell_type": "code",
   "execution_count": 16,
   "metadata": {
    "collapsed": false
   },
   "outputs": [
    {
     "name": "stdout",
     "output_type": "stream",
     "text": [
      "+-----+----------+---------+---------------+--------------------+\n",
      "|   id|account_id|device_id|activation_date|   account_device_id|\n",
      "+-----+----------+---------+---------------+--------------------+\n",
      "|48692|     32443|       29|  1393242509000|7351fed1-f344-4cd...|\n",
      "|48693|     32444|        4|  1353649861000|6da22278-ff7a-461...|\n",
      "|48694|     32445|        9|  1331819465000|cb993b85-6775-407...|\n",
      "|48695|     32446|       43|  1336860950000|48ea2c09-a0df-4d1...|\n",
      "|48696|     32446|       29|  1383650663000|4b49c0a6-d141-42e...|\n",
      "+-----+----------+---------+---------------+--------------------+\n",
      "\n"
     ]
    }
   ],
   "source": [
    "spark.sql(\"SELECT * FROM account_dev LIMIT 5\").show()"
   ]
  },
  {
   "cell_type": "code",
   "execution_count": 17,
   "metadata": {
    "collapsed": true
   },
   "outputs": [],
   "source": [
    "ndf = spark.sql(\"SELECT acct_num, first_name, last_name, account_device_id FROM accounts JOIN account_dev ON acct_num = account_id\")"
   ]
  },
  {
   "cell_type": "code",
   "execution_count": 18,
   "metadata": {
    "collapsed": false
   },
   "outputs": [
    {
     "name": "stdout",
     "output_type": "stream",
     "text": [
      "+--------+----------+---------+--------------------+\n",
      "|acct_num|first_name|last_name|   account_device_id|\n",
      "+--------+----------+---------+--------------------+\n",
      "|       1|    Donald|   Becton|20b671b4-2467-42d...|\n",
      "|       1|    Donald|   Becton|7eb61253-55cd-430...|\n",
      "|       2|     Donna|    Jones|658e3fac-8e85-40e...|\n",
      "|       3|    Dorthy| Chalmers|fb674b1b-135e-408...|\n",
      "|       4|     Leila|  Spencer|c0b0c922-7fd4-46b...|\n",
      "|       5|     Anita| Laughlin|e054dafa-88b8-41e...|\n",
      "|       5|     Anita| Laughlin|b72a7271-864e-46d...|\n",
      "|       6|    Stevie|   Bridge|7d11b8e3-d67d-45f...|\n",
      "|       7|     David|   Eggers|98428e3a-bfb0-487...|\n",
      "|       8|   Dorothy|  Koopman|c49c4f82-9e22-4b3...|\n",
      "|       8|   Dorothy|  Koopman|58830f32-8a63-4af...|\n",
      "|       9|      Kara|     Kohl|5266e928-9304-4ee...|\n",
      "|       9|      Kara|     Kohl|45fe71c6-c56f-435...|\n",
      "|      10|     Diane|   Nelson|27bdf2f3-82a2-48d...|\n",
      "|      10|     Diane|   Nelson|ece98119-a036-400...|\n",
      "|      11|    Robert|   Fisher|678dc546-57ca-47f...|\n",
      "|      12|    Marcia|  Roberts|71520a12-112e-448...|\n",
      "|      12|    Marcia|  Roberts|2c3fb6f8-14bb-43f...|\n",
      "|      13|    Andres|    Cruse|d7768cd0-b17b-4e0...|\n",
      "|      13|    Andres|    Cruse|9163f7b0-9957-47f...|\n",
      "+--------+----------+---------+--------------------+\n",
      "only showing top 20 rows\n",
      "\n"
     ]
    }
   ],
   "source": [
    "ndf.show()"
   ]
  },
  {
   "cell_type": "code",
   "execution_count": 19,
   "metadata": {
    "collapsed": false
   },
   "outputs": [],
   "source": [
    "ndf.write.option(\"path\",\"/loudacre/name_dev\").saveAsTable(\"name_dev\")"
   ]
  },
  {
   "cell_type": "code",
   "execution_count": 20,
   "metadata": {
    "collapsed": false
   },
   "outputs": [
    {
     "name": "stdout",
     "output_type": "stream",
     "text": [
      "Column(name=u'acct_num', description=None, dataType=u'int', nullable=True, isPartition=False, isBucket=False)\n",
      "Column(name=u'first_name', description=None, dataType=u'string', nullable=True, isPartition=False, isBucket=False)\n",
      "Column(name=u'last_name', description=None, dataType=u'string', nullable=True, isPartition=False, isBucket=False)\n",
      "Column(name=u'account_device_id', description=None, dataType=u'string', nullable=True, isPartition=False, isBucket=False)\n"
     ]
    }
   ],
   "source": [
    "for column in spark.catalog.listColumns(\"name_dev\"): print(column)"
   ]
  },
  {
   "cell_type": "code",
   "execution_count": null,
   "metadata": {
    "collapsed": true
   },
   "outputs": [],
   "source": []
  }
 ],
 "metadata": {
  "kernelspec": {
   "display_name": "Python 2",
   "language": "python",
   "name": "python2"
  },
  "language_info": {
   "codemirror_mode": {
    "name": "ipython",
    "version": 2
   },
   "file_extension": ".py",
   "mimetype": "text/x-python",
   "name": "python",
   "nbconvert_exporter": "python",
   "pygments_lexer": "ipython2",
   "version": "2.7.11"
  }
 },
 "nbformat": 4,
 "nbformat_minor": 0
}

{
 "cells": [
  {
   "cell_type": "markdown",
   "metadata": {},
   "source": [
    "# RDD Transform"
   ]
  },
  {
   "cell_type": "markdown",
   "metadata": {},
   "source": [
    "## Loudacre weblog"
   ]
  },
  {
   "cell_type": "code",
   "execution_count": 1,
   "metadata": {
    "collapsed": true
   },
   "outputs": [],
   "source": [
    "logs = sc.textFile(\"/loudacre/weblogs\")"
   ]
  },
  {
   "cell_type": "code",
   "execution_count": 4,
   "metadata": {
    "collapsed": false
   },
   "outputs": [
    {
     "data": {
      "text/plain": [
       "[u'217.150.149.167 - 4712 [15/Sep/2013:23:56:06 +0100] \"GET /ronin_s4.jpg HTTP/1.0\" 200 5552 \"http://www.loudacre.com\"  \"Loudacre Mobile Browser MeeToo 1.0\"',\n",
       " u'104.184.210.93 - 28402 [15/Sep/2013:23:42:53 +0100] \"GET /titanic_2200.jpg HTTP/1.0\" 200 19466 \"http://www.loudacre.com\"  \"Loudacre Mobile Browser MeeToo 2.0\"']"
      ]
     },
     "execution_count": 4,
     "metadata": {},
     "output_type": "execute_result"
    }
   ],
   "source": [
    "rdd = logs.filter(lambda l: \".jpg\" in l)\n",
    "rdd.take(2)"
   ]
  },
  {
   "cell_type": "code",
   "execution_count": 5,
   "metadata": {
    "collapsed": false
   },
   "outputs": [
    {
     "name": "stdout",
     "output_type": "stream",
     "text": [
      "217.150.149.167 - 4712 [15/Sep/2013:23:56:06 +0100] \"GET /ronin_s4.jpg HTTP/1.0\" 200 5552 \"http://www.loudacre.com\"  \"Loudacre Mobile Browser MeeToo 1.0\"\n",
      "104.184.210.93 - 28402 [15/Sep/2013:23:42:53 +0100] \"GET /titanic_2200.jpg HTTP/1.0\" 200 19466 \"http://www.loudacre.com\"  \"Loudacre Mobile Browser MeeToo 2.0\"\n",
      "37.91.137.134 - 36171 [15/Sep/2013:23:39:33 +0100] \"GET /ronin_novelty_note_3.jpg HTTP/1.0\" 200 7432 \"http://www.loudacre.com\"  \"Loudacre Mobile Browser iFruit 3\"\n",
      "177.43.223.203 - 90653 [15/Sep/2013:23:31:17 +0100] \"GET /ifruit_3.jpg HTTP/1.0\" 200 19578 \"http://www.loudacre.com\"  \"Loudacre Mobile Browser Sorrento F31L\"\n",
      "19.250.65.76 - 44388 [15/Sep/2013:23:31:10 +0100] \"GET /sorrento_f24l.jpg HTTP/1.0\" 200 5730 \"http://www.loudacre.com\"  \"Loudacre Mobile Browser iFruit 3A\"\n"
     ]
    }
   ],
   "source": [
    "for l in rdd.take(5): print(l)"
   ]
  },
  {
   "cell_type": "code",
   "execution_count": 7,
   "metadata": {
    "collapsed": false
   },
   "outputs": [
    {
     "data": {
      "text/plain": [
       "[151, 143]"
      ]
     },
     "execution_count": 7,
     "metadata": {},
     "output_type": "execute_result"
    }
   ],
   "source": [
    "rdd2 = logs.map(lambda l: len(l))\n",
    "rdd2.take(2)"
   ]
  },
  {
   "cell_type": "code",
   "execution_count": 8,
   "metadata": {
    "collapsed": false
   },
   "outputs": [
    {
     "data": {
      "text/plain": [
       "[[u'3.94.78.5',\n",
       "  u'-',\n",
       "  u'69827',\n",
       "  u'[15/Sep/2013:23:58:36',\n",
       "  u'+0100]',\n",
       "  u'\"GET',\n",
       "  u'/KBDOC-00033.html',\n",
       "  u'HTTP/1.0\"',\n",
       "  u'200',\n",
       "  u'14417',\n",
       "  u'\"http://www.loudacre.com\"',\n",
       "  u'',\n",
       "  u'\"Loudacre',\n",
       "  u'Mobile',\n",
       "  u'Browser',\n",
       "  u'iFruit',\n",
       "  u'1\"'],\n",
       " [u'3.94.78.5',\n",
       "  u'-',\n",
       "  u'69827',\n",
       "  u'[15/Sep/2013:23:58:36',\n",
       "  u'+0100]',\n",
       "  u'\"GET',\n",
       "  u'/theme.css',\n",
       "  u'HTTP/1.0\"',\n",
       "  u'200',\n",
       "  u'3576',\n",
       "  u'\"http://www.loudacre.com\"',\n",
       "  u'',\n",
       "  u'\"Loudacre',\n",
       "  u'Mobile',\n",
       "  u'Browser',\n",
       "  u'iFruit',\n",
       "  u'1\"']]"
      ]
     },
     "execution_count": 8,
     "metadata": {},
     "output_type": "execute_result"
    }
   ],
   "source": [
    "rdd3 = logs.map(lambda l: l.split(' '))\n",
    "rdd3.take(2)"
   ]
  },
  {
   "cell_type": "code",
   "execution_count": 11,
   "metadata": {
    "collapsed": false
   },
   "outputs": [
    {
     "name": "stdout",
     "output_type": "stream",
     "text": [
      "----\n",
      "3.94.78.5\n",
      "-\n",
      "69827\n",
      "[15/Sep/2013:23:58:36\n",
      "+0100]\n",
      "\"GET\n",
      "/KBDOC-00033.html\n",
      "HTTP/1.0\"\n",
      "200\n",
      "14417\n",
      "\"http://www.loudacre.com\"\n",
      "\n",
      "\"Loudacre\n",
      "Mobile\n",
      "Browser\n",
      "iFruit\n",
      "1\"\n",
      "----\n",
      "3.94.78.5\n",
      "-\n",
      "69827\n",
      "[15/Sep/2013:23:58:36\n",
      "+0100]\n",
      "\"GET\n",
      "/theme.css\n",
      "HTTP/1.0\"\n",
      "200\n",
      "3576\n",
      "\"http://www.loudacre.com\"\n",
      "\n",
      "\"Loudacre\n",
      "Mobile\n",
      "Browser\n",
      "iFruit\n",
      "1\"\n"
     ]
    }
   ],
   "source": [
    "for fields in rdd3.take(2):\n",
    "    print(\"----\")\n",
    "    for field in fields: print(field)"
   ]
  },
  {
   "cell_type": "code",
   "execution_count": 12,
   "metadata": {
    "collapsed": false
   },
   "outputs": [
    {
     "name": "stdout",
     "output_type": "stream",
     "text": [
      "3.94.78.5\n",
      "3.94.78.5\n",
      "19.38.140.62\n",
      "19.38.140.62\n",
      "129.133.56.105\n",
      "129.133.56.105\n",
      "217.150.149.167\n",
      "217.150.149.167\n",
      "217.150.149.167\n",
      "217.150.149.167\n"
     ]
    }
   ],
   "source": [
    "rdd4 = logs.map(lambda l: l.split(' ')[0])\n",
    "for ip in rdd4.take(10): print(ip)"
   ]
  },
  {
   "cell_type": "code",
   "execution_count": 13,
   "metadata": {
    "collapsed": true
   },
   "outputs": [],
   "source": [
    "rdd4.saveAsTextFile(\"/loudacre/iplist\")"
   ]
  },
  {
   "cell_type": "markdown",
   "metadata": {},
   "source": [
    "# ip userid"
   ]
  },
  {
   "cell_type": "code",
   "execution_count": 28,
   "metadata": {
    "collapsed": false
   },
   "outputs": [
    {
     "data": {
      "text/plain": [
       "[u'3.94.78.5 - 69827 [15/Sep/2013:23:58:36 +0100] \"GET /KBDOC-00033.html HTTP/1.0\" 200 14417 \"http://www.loudacre.com\"  \"Loudacre Mobile Browser iFruit 1\"',\n",
       " u'19.38.140.62 - 21475 [15/Sep/2013:23:58:34 +0100] \"GET /KBDOC-00277.html HTTP/1.0\" 200 15517 \"http://www.loudacre.com\"  \"Loudacre Mobile Browser Ronin S1\"']"
      ]
     },
     "execution_count": 28,
     "metadata": {},
     "output_type": "execute_result"
    }
   ],
   "source": [
    "rdd5 = logs.filter(lambda l: \".html\" in l)\n",
    "rdd5.take(2)"
   ]
  },
  {
   "cell_type": "code",
   "execution_count": 29,
   "metadata": {
    "collapsed": false
   },
   "outputs": [
    {
     "data": {
      "text/plain": [
       "[[u'3.94.78.5',\n",
       "  u'-',\n",
       "  u'69827',\n",
       "  u'[15/Sep/2013:23:58:36',\n",
       "  u'+0100]',\n",
       "  u'\"GET',\n",
       "  u'/KBDOC-00033.html',\n",
       "  u'HTTP/1.0\"',\n",
       "  u'200',\n",
       "  u'14417',\n",
       "  u'\"http://www.loudacre.com\"',\n",
       "  u'',\n",
       "  u'\"Loudacre',\n",
       "  u'Mobile',\n",
       "  u'Browser',\n",
       "  u'iFruit',\n",
       "  u'1\"'],\n",
       " [u'19.38.140.62',\n",
       "  u'-',\n",
       "  u'21475',\n",
       "  u'[15/Sep/2013:23:58:34',\n",
       "  u'+0100]',\n",
       "  u'\"GET',\n",
       "  u'/KBDOC-00277.html',\n",
       "  u'HTTP/1.0\"',\n",
       "  u'200',\n",
       "  u'15517',\n",
       "  u'\"http://www.loudacre.com\"',\n",
       "  u'',\n",
       "  u'\"Loudacre',\n",
       "  u'Mobile',\n",
       "  u'Browser',\n",
       "  u'Ronin',\n",
       "  u'S1\"']]"
      ]
     },
     "execution_count": 29,
     "metadata": {},
     "output_type": "execute_result"
    }
   ],
   "source": [
    "rdd5 = rdd5.map(lambda l: l.split(' '))\n",
    "rdd5.take(2)"
   ]
  },
  {
   "cell_type": "code",
   "execution_count": 30,
   "metadata": {
    "collapsed": false
   },
   "outputs": [
    {
     "data": {
      "text/plain": [
       "[u'3.94.78.5,69827', u'19.38.140.62,21475']"
      ]
     },
     "execution_count": 30,
     "metadata": {},
     "output_type": "execute_result"
    }
   ],
   "source": [
    "rdd5 = rdd5.map(lambda x: x[0] + \",\" + x[2])\n",
    "rdd5.take(2)"
   ]
  },
  {
   "cell_type": "code",
   "execution_count": 31,
   "metadata": {
    "collapsed": true
   },
   "outputs": [],
   "source": [
    "rdd5.saveAsTextFile(\"/loudacre/userips_csv\")"
   ]
  },
  {
   "cell_type": "code",
   "execution_count": null,
   "metadata": {
    "collapsed": true
   },
   "outputs": [],
   "source": []
  }
 ],
 "metadata": {
  "kernelspec": {
   "display_name": "Python 2",
   "language": "python",
   "name": "python2"
  },
  "language_info": {
   "codemirror_mode": {
    "name": "ipython",
    "version": 2
   },
   "file_extension": ".py",
   "mimetype": "text/x-python",
   "name": "python",
   "nbconvert_exporter": "python",
   "pygments_lexer": "ipython2",
   "version": "2.7.11"
  }
 },
 "nbformat": 4,
 "nbformat_minor": 0
}
